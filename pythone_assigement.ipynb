{
  "nbformat": 4,
  "nbformat_minor": 0,
  "metadata": {
    "colab": {
      "provenance": []
    },
    "kernelspec": {
      "name": "python3",
      "display_name": "Python 3"
    },
    "language_info": {
      "name": "python"
    }
  },
  "cells": [
    {
      "cell_type": "markdown",
      "source": [
        "#1) What are the types of Applications?\n",
        "#A-->  there are foure type of applications 1)web applications 2)mobile applications 3)desktop applications 4)enterprise applications.\n",
        "\n",
        "\n",
        "\n"
      ],
      "metadata": {
        "id": "M7WA3QLIRpSn"
      }
    },
    {
      "cell_type": "markdown",
      "source": [
        "2) What is programing?\n",
        "\n",
        "A--> Programming using the language to create programs, which are sets of instructions that a computer can follow to perform tasks."
      ],
      "metadata": {
        "id": "JXIembVoS9_S"
      }
    },
    {
      "cell_type": "markdown",
      "source": [
        "3) What is Python?\n",
        "\n",
        "A--> python is a high-level programming language know for simplicty. it's used like various field.\n",
        "1)web development\n",
        "2)data science\n",
        "3)machine learning\n",
        "4)software development"
      ],
      "metadata": {
        "id": "pGpRnCcEUY1w"
      }
    },
    {
      "cell_type": "markdown",
      "source": [
        "4) Write a Python program to check if a number is positive, negative or\n",
        "zero."
      ],
      "metadata": {
        "id": "Y0d3SfR0WjIo"
      }
    },
    {
      "cell_type": "code",
      "execution_count": null,
      "metadata": {
        "colab": {
          "base_uri": "https://localhost:8080/"
        },
        "id": "WVsyUIPNRYa7",
        "outputId": "115cf335-daa3-443d-cbbc-1f763758b5cb"
      },
      "outputs": [
        {
          "output_type": "stream",
          "name": "stdout",
          "text": [
            "Enter a number: -1\n",
            "Negative\n"
          ]
        }
      ],
      "source": [
        "#4) Write a Python program to check if a number is positive, negative or zero\n",
        "num = float(input(\"Enter a number: \"))\n",
        "print(\"Positive\" if num > 0 else \"Negative\" if num < 0 else \"Zero\")"
      ]
    },
    {
      "cell_type": "code",
      "source": [
        "#5)Write a Python program to get the Factorial number of given numbers.\n",
        "import math\n",
        "num=int(input(\"enter the number \"))\n",
        "print(\"Factorial:\", math.factorial(num) if num >=0 else \"Not defined for negitive numbers\")"
      ],
      "metadata": {
        "colab": {
          "base_uri": "https://localhost:8080/"
        },
        "id": "LjwnNagfYifi",
        "outputId": "5f6f1aff-833d-4bba-9491-bae75bedd313"
      },
      "execution_count": null,
      "outputs": [
        {
          "output_type": "stream",
          "name": "stdout",
          "text": [
            "enter the number 3\n",
            "Factorial: 6\n"
          ]
        }
      ]
    },
    {
      "cell_type": "code",
      "source": [
        "#6)Write a Python program to get the Fibonacci series of given range.\n",
        "n=int(input(\"enter range: \"))\n",
        "a, b= 0,1\n",
        "while a<n:\n",
        "    print(a, end=\" \")\n",
        "    a, b= b, a+b\n"
      ],
      "metadata": {
        "colab": {
          "base_uri": "https://localhost:8080/"
        },
        "id": "qZWk3JARaA1Q",
        "outputId": "2ec56aa0-399e-4ca3-c103-87abd2d2f44e"
      },
      "execution_count": null,
      "outputs": [
        {
          "name": "stdout",
          "output_type": "stream",
          "text": [
            "enter range: 0\n"
          ]
        }
      ]
    },
    {
      "cell_type": "code",
      "source": [
        "#6)Write a Python program to get the Fibonacci series of given range.\n",
        "def Fibonacci_series(n):\n",
        "    if n <= 0:\n",
        "        return []\n",
        "    elif n == 1:\n",
        "        return [0]\n",
        "    elif n == 2:\n",
        "        return [0, 1]\n"
      ],
      "metadata": {
        "id": "gY6WGbindVXG"
      },
      "execution_count": null,
      "outputs": []
    },
    {
      "cell_type": "code",
      "source": [
        "#7)How memory is managed in Python?\n",
        "import tracemalloc\n",
        "\n",
        "tracemalloc.start()\n",
        "\n",
        "x = [i for i in range(100000)]\n",
        "\n",
        "print(tracemalloc.get_traced_memory())\n",
        "tracemalloc.stop()\n",
        "\n",
        "\n"
      ],
      "metadata": {
        "id": "cLO7tAucesJ8",
        "colab": {
          "base_uri": "https://localhost:8080/"
        },
        "outputId": "1351d996-cef5-4556-ae1c-0796421f1fbf"
      },
      "execution_count": null,
      "outputs": [
        {
          "output_type": "stream",
          "name": "stdout",
          "text": [
            "(3993993, 4005281)\n"
          ]
        }
      ]
    },
    {
      "cell_type": "code",
      "source": [
        "#8)What is the purpose continuing statement in python?\n",
        "\n",
        "for i in range(5):\n",
        "    if i == 2:\n",
        "        continue\n",
        "    print(i)"
      ],
      "metadata": {
        "id": "VBVwECOJe47G",
        "colab": {
          "base_uri": "https://localhost:8080/"
        },
        "outputId": "0ee1f1dd-e48f-40f5-bf66-dda689959a7e"
      },
      "execution_count": null,
      "outputs": [
        {
          "output_type": "stream",
          "name": "stdout",
          "text": [
            "0\n",
            "1\n",
            "3\n",
            "4\n"
          ]
        }
      ]
    },
    {
      "cell_type": "code",
      "source": [
        "#9) Write python program that swap two number with temp variable and without temp variable.\n",
        "X, Y = 10, 15\n",
        "X, Y,= X, Y\n",
        "print(X, Y)\n"
      ],
      "metadata": {
        "colab": {
          "base_uri": "https://localhost:8080/"
        },
        "id": "JKzfKqdFfAxi",
        "outputId": "396cd713-5055-4f44-dabf-7750de2b8891"
      },
      "execution_count": null,
      "outputs": [
        {
          "output_type": "stream",
          "name": "stdout",
          "text": [
            "10 15\n"
          ]
        }
      ]
    },
    {
      "cell_type": "code",
      "source": [
        "#10) Write a Python program to find whether a given number is even or odd, print out an appropriate message to the user.\n",
        "\n",
        "n = int(input(\"Enter a number: \"))\n",
        "print(\"Even\" if n % 2 == 0 else \"Odd\")"
      ],
      "metadata": {
        "id": "gZxqy4e0gG-V",
        "colab": {
          "base_uri": "https://localhost:8080/"
        },
        "outputId": "cd46f962-c1a7-4ea0-f8f8-f85cb87cb8ce"
      },
      "execution_count": null,
      "outputs": [
        {
          "output_type": "stream",
          "name": "stdout",
          "text": [
            "Enter a number: 2\n",
            "Even\n"
          ]
        }
      ]
    },
    {
      "cell_type": "code",
      "source": [
        "#11) Write a Python program to test whether a passed letter is a vowel or not.\n",
        "\n",
        "ch = input(\"Enter a letter: \").lower ()\n",
        "print(\"Vowel\" if ch in 'aeiou' else \"Not a vowel\")\n",
        "\n"
      ],
      "metadata": {
        "id": "_Bb09tFngNSb",
        "colab": {
          "base_uri": "https://localhost:8080/"
        },
        "outputId": "4705aa76-e654-49a4-f6ad-f21564e1c9ed"
      },
      "execution_count": null,
      "outputs": [
        {
          "output_type": "stream",
          "name": "stdout",
          "text": [
            "Enter a letter: a\n",
            "Vowel\n"
          ]
        }
      ]
    },
    {
      "cell_type": "code",
      "source": [
        "#12) Write a Python program to sum of three given integers. However, if two values are equal sum will be zero.\n",
        "\n",
        "\n",
        "a, b, c = int(input()), int(input()), int(input())\n",
        "print(0 if a == b or b == c or a == c else a + b + c)"
      ],
      "metadata": {
        "id": "rYvv8NE5gb-A",
        "colab": {
          "base_uri": "https://localhost:8080/"
        },
        "outputId": "64201b5c-8a2c-4a62-ba89-eaa425c1f14c"
      },
      "execution_count": null,
      "outputs": [
        {
          "output_type": "stream",
          "name": "stdout",
          "text": [
            "5\n",
            "5\n",
            "6\n",
            "0\n"
          ]
        }
      ]
    },
    {
      "cell_type": "code",
      "source": [
        "#13) Write a Python program that will return true if the two given integer values are equal or their sum or difference is 5.\n",
        "\n",
        "a, b = int(input()), int(input())\n",
        "print(a == b or abs(a - b) == 5 or (a + b) == 5)"
      ],
      "metadata": {
        "id": "QKS87oTtgnoH",
        "colab": {
          "base_uri": "https://localhost:8080/"
        },
        "outputId": "a18fc74a-2fd1-41d9-b8ef-7cb20a24820f"
      },
      "execution_count": null,
      "outputs": [
        {
          "output_type": "stream",
          "name": "stdout",
          "text": [
            "4\n",
            "2\n",
            "False\n"
          ]
        }
      ]
    },
    {
      "cell_type": "code",
      "source": [
        "#14)Write a python program to sum of the first n positive integers.\n",
        "\n",
        "n = int(input(\"Enter a number: \"))\n",
        "print(n * (n + 1) // 2)"
      ],
      "metadata": {
        "id": "lc7aGn2Yg_-2",
        "colab": {
          "base_uri": "https://localhost:8080/"
        },
        "outputId": "726da300-e066-4920-8602-1754ec436720"
      },
      "execution_count": null,
      "outputs": [
        {
          "output_type": "stream",
          "name": "stdout",
          "text": [
            "Enter a number: 2\n",
            "3\n"
          ]
        }
      ]
    },
    {
      "cell_type": "code",
      "source": [
        "#15)Write a Python program to calculate the length of a string.\n",
        "\n",
        "print(len(input(\"Enter a string: \")))\n"
      ],
      "metadata": {
        "id": "utQRULswhL1h",
        "colab": {
          "base_uri": "https://localhost:8080/"
        },
        "outputId": "60c5743a-4a6e-4c68-b876-0299970b69c2"
      },
      "execution_count": null,
      "outputs": [
        {
          "output_type": "stream",
          "name": "stdout",
          "text": [
            "Enter a string: 1\n",
            "1\n"
          ]
        }
      ]
    },
    {
      "cell_type": "code",
      "source": [
        "#16) Write a Python program to count the number of characters(character frequency) in a string\n",
        "from collections import Counter\n",
        "\n",
        "s = input(\"Enter a string: \")\n",
        "freq = Counter(s)\n",
        "\n",
        "for char, count in freq.items():\n",
        "    print(f\"'{char}': {count}\")"
      ],
      "metadata": {
        "id": "DctQe-mVh3aS",
        "colab": {
          "base_uri": "https://localhost:8080/"
        },
        "outputId": "a6cc66fd-55ce-4f12-9b6d-48808f61cdc6"
      },
      "execution_count": null,
      "outputs": [
        {
          "output_type": "stream",
          "name": "stdout",
          "text": [
            "Enter a string: 3\n",
            "'3': 1\n"
          ]
        }
      ]
    },
    {
      "cell_type": "code",
      "source": [
        "#17)What are negative indexes and why are they used?\n",
        "\n",
        "A) negative index is a feature programming languages like python\n",
        "* list\n",
        "* tuple\n",
        "* string\n"
      ],
      "metadata": {
        "id": "sfyjIuwBh-U6"
      },
      "execution_count": null,
      "outputs": []
    },
    {
      "cell_type": "code",
      "source": [
        "#18)Write a Python program to count occurrences of a substring in a string.\n",
        "\n",
        "s = input(\"Enter the main string: \")\n",
        "sub = input(\"Enter the substring: \")\n",
        "\n",
        "print(s.count(sub))\n"
      ],
      "metadata": {
        "id": "adRXJqFPiIeB",
        "colab": {
          "base_uri": "https://localhost:8080/"
        },
        "outputId": "d418d44f-d8f8-473c-8791-1ce497d17b91"
      },
      "execution_count": null,
      "outputs": [
        {
          "output_type": "stream",
          "name": "stdout",
          "text": [
            "Enter the main string: 3\n",
            "Enter the substring: 2\n",
            "0\n"
          ]
        }
      ]
    },
    {
      "cell_type": "code",
      "source": [
        "#19) Write a Python program to count the occurrences of each word in a Page 17 of 28 given sentence\n",
        "\n",
        "from collections import Counter\n",
        "\n",
        "sentence = input(\"Enter a sentence: \").lower().split()\n",
        "print(Counter(sentence))\n"
      ],
      "metadata": {
        "id": "FORkYo4xiRfC",
        "colab": {
          "base_uri": "https://localhost:8080/"
        },
        "outputId": "2b17e378-8585-455e-a011-5cca995b4562"
      },
      "execution_count": null,
      "outputs": [
        {
          "output_type": "stream",
          "name": "stdout",
          "text": [
            "Enter a sentence: 34\n",
            "Counter({'34': 1})\n"
          ]
        }
      ]
    },
    {
      "cell_type": "code",
      "source": [
        "#20) Write a Python program to get a single string from two given strings,separated by a space and swap the first two characters of each string.\n",
        "\n",
        "string=input(\"enter a string\")\n",
        "substring=input(\"enter substring\")\n",
        "count=string.count(substring)\n",
        "print(count)"
      ],
      "metadata": {
        "colab": {
          "base_uri": "https://localhost:8080/"
        },
        "id": "bPX3gJn2i08I",
        "outputId": "ab82221d-c0f0-49a6-ecc4-7c36e1c29cb6"
      },
      "execution_count": null,
      "outputs": [
        {
          "output_type": "stream",
          "name": "stdout",
          "text": [
            "enter a string1\n",
            "enter substring32\n",
            "0\n"
          ]
        }
      ]
    },
    {
      "cell_type": "code",
      "source": [
        "#21) Write a Python program to add 'in' at the end of a given string (length should be at least 3). If the given string already ends with 'ing' thenadd 'ly' instead if the string length of the given string is less than 3,leave it unchanged.\n",
        "\n",
        "def modify_string(s):\n",
        "    if len(s) < 3:\n",
        "        return s\n",
        "    elif s.endswith('ing'):\n",
        "        return s + 'ly'\n",
        "    else:\n",
        "        return s + 'in'\n"
      ],
      "metadata": {
        "id": "0zMFjOtJjbrd"
      },
      "execution_count": null,
      "outputs": []
    },
    {
      "cell_type": "code",
      "source": [
        "#22) Write a Python function to reverses a string if its length is a multiple of 4.\n",
        "\n",
        "def reverse_if_multiple_of_4(s):\n",
        "    return s[::-1] if len(s) % 4 == 0 else s"
      ],
      "metadata": {
        "id": "Tw_nPh7ajscG"
      },
      "execution_count": null,
      "outputs": []
    },
    {
      "cell_type": "code",
      "source": [
        "#23) Write a Python program to get a string made of the first 2 and the last 2 chars from a given a string. If the string length is less than 2, return instead of the empty string.\n",
        "string = input(\"Enter a string: \")\n",
        "if len(string) < 2:\n",
        "    print(\"Empty string\")\n",
        "else:\n",
        "    print(string[:2] + string[-2:])\n"
      ],
      "metadata": {
        "id": "mWPbylj0j8MW",
        "colab": {
          "base_uri": "https://localhost:8080/"
        },
        "outputId": "5ad42e3c-58a2-4fc6-cbff-12f90b9ff1f4"
      },
      "execution_count": null,
      "outputs": [
        {
          "output_type": "stream",
          "name": "stdout",
          "text": [
            "Enter a string: 2\n",
            "Empty string\n"
          ]
        }
      ]
    },
    {
      "cell_type": "code",
      "source": [
        "#24\n",
        "def insert_in_middle(base_str, insert_str):\n",
        "    mid = len(base_str) // 2\n",
        "    return base_str[:mid] + insert_str + base_str[mid:]\n",
        "\n"
      ],
      "metadata": {
        "id": "U5hYuHqSktKF"
      },
      "execution_count": null,
      "outputs": []
    },
    {
      "cell_type": "code",
      "source": [
        "#25)What is List? How will you reverse a list?\n",
        "\n",
        "MY_LIST = [1, 2, 3, 4, 5]\n",
        "print(MY_LIST[::-1])\n",
        "MY_LIST.reverse()\n",
        "print(MY_LIST)\n"
      ],
      "metadata": {
        "colab": {
          "base_uri": "https://localhost:8080/"
        },
        "id": "zEe0ryYvk7In",
        "outputId": "cffd07e3-917a-4e00-d964-5e65ec0168db"
      },
      "execution_count": null,
      "outputs": [
        {
          "output_type": "stream",
          "name": "stdout",
          "text": [
            "[5, 4, 3, 2, 1]\n",
            "[5, 4, 3, 2, 1]\n"
          ]
        }
      ]
    },
    {
      "cell_type": "code",
      "source": [
        "#26)How will you remove last object from a list?\n",
        "my_list = [1, 2, 3, 4, 5]\n",
        "my_list.pop()\n",
        "print(my_list)\n",
        "\n"
      ],
      "metadata": {
        "id": "ASQtkL-hnRTK",
        "colab": {
          "base_uri": "https://localhost:8080/"
        },
        "outputId": "1574e6ea-67cd-43ea-bfa9-d37f29279733"
      },
      "execution_count": null,
      "outputs": [
        {
          "output_type": "stream",
          "name": "stdout",
          "text": [
            "[1, 2, 3, 4]\n"
          ]
        }
      ]
    },
    {
      "cell_type": "code",
      "source": [
        "#27) Suppose list1 is [2, 33, 222, 14, and 25], what is list1 [1]?\n",
        "list1 = [2, 33, 222, 14, 25]\n",
        "print(list1[1])\n"
      ],
      "metadata": {
        "id": "VTvgSTJ7mlox",
        "colab": {
          "base_uri": "https://localhost:8080/"
        },
        "outputId": "97935c34-7718-43f1-8dd8-a9c54e41bbc4"
      },
      "execution_count": null,
      "outputs": [
        {
          "output_type": "stream",
          "name": "stdout",
          "text": [
            "33\n"
          ]
        }
      ]
    },
    {
      "cell_type": "code",
      "source": [
        "#28) Differentiate between append () and extend () methods?\n",
        "#   APPEND()\n",
        "my_list = [1, 2, 3]\n",
        "my_list.append([4, 5])\n",
        "print(my_list)\n",
        "\n",
        "my_list.append((6, 7))\n",
        "print(my_list)\n",
        "\n",
        "#   EXTEND()\n",
        "my_list = [1, 2, 3]\n",
        "my_list.extend([4, 5])\n",
        "print(my_list)\n",
        "\n",
        "my_list.extend((6, 7))\n",
        "print(my_list)"
      ],
      "metadata": {
        "id": "c0tVo_Abof9h",
        "colab": {
          "base_uri": "https://localhost:8080/"
        },
        "outputId": "1b9e3bda-cb17-4260-813d-e63716279d3d"
      },
      "execution_count": null,
      "outputs": [
        {
          "output_type": "stream",
          "name": "stdout",
          "text": [
            "[1, 2, 3, [4, 5]]\n",
            "[1, 2, 3, [4, 5], (6, 7)]\n",
            "[1, 2, 3, 4, 5]\n",
            "[1, 2, 3, 4, 5, 6, 7]\n"
          ]
        }
      ]
    },
    {
      "cell_type": "code",
      "source": [
        "#29) Write a Python function to get the largest number, smallest num and sum of all from a list.\n",
        "\n",
        "def get_stats(numbers):\n",
        "    largest = max(numbers)\n",
        "    smallest = min(numbers)\n",
        "    total_sum = sum(numbers)\n",
        "\n",
        "    return largest, smallest, total_sum\n",
        "\n",
        "\n",
        "\n"
      ],
      "metadata": {
        "id": "_c_cde6zomhi"
      },
      "execution_count": null,
      "outputs": []
    },
    {
      "cell_type": "code",
      "source": [
        "#30) How will you compare two lists?\n",
        "l1 = [10,20,30]\n",
        "l2 = [10,20,30]\n",
        "\n",
        "if l1 == l2:\n",
        "  print(\"same\")\n",
        "else:\n",
        "  print(\"not same\")"
      ],
      "metadata": {
        "id": "CavNrhujow6m",
        "colab": {
          "base_uri": "https://localhost:8080/"
        },
        "outputId": "7c72633b-203f-4be4-a73a-7707f418c107"
      },
      "execution_count": null,
      "outputs": [
        {
          "output_type": "stream",
          "name": "stdout",
          "text": [
            "same\n"
          ]
        }
      ]
    },
    {
      "cell_type": "code",
      "source": [
        "#31) Write a Python program to count the number of strings where the string length is 2 or more and the first and last character are same from a given list of strings.\n",
        "def match_ends(words):\n",
        "    count = 0\n",
        "    for word in words:\n",
        "        if len(word) >= 2 and word[0] == word[-1]:\n",
        "            count += 1\n",
        "    return count"
      ],
      "metadata": {
        "id": "ShLcOj6GoxgY"
      },
      "execution_count": null,
      "outputs": []
    },
    {
      "cell_type": "code",
      "source": [
        "#32) Write a Python program to remove duplicates from a list.\n",
        "\n",
        "sample_list = [1, 2, 2, 3, 4, 3, 5, 1, 6]\n",
        "unique_list = list(set(sample_list))\n",
        "print(\"List after removing duplicates:\", unique_list)"
      ],
      "metadata": {
        "id": "eg3D5lLRpCye",
        "colab": {
          "base_uri": "https://localhost:8080/"
        },
        "outputId": "4b209aa9-ff33-4f31-850c-5d096e9f9105"
      },
      "execution_count": null,
      "outputs": [
        {
          "output_type": "stream",
          "name": "stdout",
          "text": [
            "List after removing duplicates: [1, 2, 3, 4, 5, 6]\n"
          ]
        }
      ]
    },
    {
      "cell_type": "code",
      "source": [
        "#33) Write a Python program to check a list is empty or not.\n",
        "\n",
        "def is_list_empty(my_list):\n",
        "    if not my_list:\n",
        "        print(\"The list is empty.\")\n",
        "    else:\n",
        "        print(\"The list is not empty.\")"
      ],
      "metadata": {
        "id": "SYH967d7pDUm"
      },
      "execution_count": null,
      "outputs": []
    },
    {
      "cell_type": "code",
      "source": [
        "#34) Write a Python function that takes two lists and returns true if they have at least one common member.\n",
        "\n",
        "def have_common_member(list1, list2):\n",
        "    for item in list1:\n",
        "        if item in list2:\n",
        "           return True\n",
        "    return False"
      ],
      "metadata": {
        "id": "_KCdARhspPN5"
      },
      "execution_count": null,
      "outputs": []
    },
    {
      "cell_type": "code",
      "source": [
        "#35) Write a Python program to generate and print a list of first and last 5 elements where the values are square of numbers between 1 and 30.\n",
        "squares = [x**2 for x in range(1, 31)]\n",
        "print(\"First 5:\", squares[:5], \"Last 5:\", squares[-5:])"
      ],
      "metadata": {
        "id": "7n6hI6q0pPuT",
        "colab": {
          "base_uri": "https://localhost:8080/"
        },
        "outputId": "dcc69d9e-55fa-45f6-c7d9-7a4300cba33b"
      },
      "execution_count": null,
      "outputs": [
        {
          "output_type": "stream",
          "name": "stdout",
          "text": [
            "First 5: [1, 4, 9, 16, 25] Last 5: [676, 729, 784, 841, 900]\n"
          ]
        }
      ]
    },
    {
      "cell_type": "code",
      "source": [
        "#36) Write a Python function that takes a list and returns a new list with unique elements of the first list.\n",
        "\n",
        "def unique_elements(input_list):\n",
        "    return list(set(input_list))\n",
        "\n"
      ],
      "metadata": {
        "id": "XV9mAuSvpQF8"
      },
      "execution_count": null,
      "outputs": []
    },
    {
      "cell_type": "code",
      "source": [
        "#37)  Write a Python program to convert a list of characters into a string.\n",
        "char_list = ['H', 'e', 'l', 'l', 'o']\n",
        "result = ''.join(char_list)\n",
        "print(\"String:\", result)\n"
      ],
      "metadata": {
        "id": "z0E883F4pQhj",
        "colab": {
          "base_uri": "https://localhost:8080/"
        },
        "outputId": "37ca68cb-acef-4411-c70f-172c2bd1b8a6"
      },
      "execution_count": null,
      "outputs": [
        {
          "output_type": "stream",
          "name": "stdout",
          "text": [
            "String: Hello\n"
          ]
        }
      ]
    },
    {
      "cell_type": "code",
      "source": [
        "#38) Write a Python program to select an item randomly from a list.\n",
        "def second_smallest(numbers):\n",
        "    unique_numbers = list(set(numbers))  # Remove duplicates\n",
        "    unique_numbers.sort()  # Sort the numbers\n",
        "    return unique_numbers[1] if len(unique_numbers) > 1 else Non\n",
        "\n"
      ],
      "metadata": {
        "id": "JKgxtGJNmiKK"
      },
      "execution_count": null,
      "outputs": []
    },
    {
      "cell_type": "code",
      "source": [
        "from re import L\n",
        "#39) Write a Python program to find the second smallest number in a list.\n",
        "def second_smallest(numbers):\n",
        "    # Initialize two variables to track the smallest and second smallest numbers\n",
        "    min_val = second_min = float('inf')\n",
        "\n",
        "    for num in numbers:\n",
        "        if num < min_val:\n",
        "            second_min = min_val\n",
        "            min_val = num\n",
        "        elif min_val < num < second_min:\n",
        "            second_min = num\n",
        "\n",
        "    return second_min if second_min != float('inf') else No\n",
        "\n",
        "\n"
      ],
      "metadata": {
        "id": "aRaQ_7pcmhlU"
      },
      "execution_count": null,
      "outputs": []
    },
    {
      "cell_type": "code",
      "source": [
        "\n",
        "#40) Write a Python program to get unique values from a list\n",
        "def unique_values(input_list):\n",
        "    return list(set(input_list))\n",
        "\n"
      ],
      "metadata": {
        "id": "NFLsZr2cmtv0"
      },
      "execution_count": null,
      "outputs": []
    },
    {
      "cell_type": "code",
      "source": [
        "#41) Write a Python program to check whether a list contains a sub list\n",
        "def contains_sublist(lst, sublist):\n",
        "    return any(lst[i:i+len(sublist)] == sublist for i in range(len(lst) - len(sublist) + 1))\n"
      ],
      "metadata": {
        "id": "JuSuPkBPmts7"
      },
      "execution_count": null,
      "outputs": []
    },
    {
      "cell_type": "code",
      "source": [
        "#42) my_list = ['apple', 'banana', 'cherry']\n",
        "for idx, value in enumerate(my_list):\n",
        "    globals()[f'var{idx}'] = value\n"
      ],
      "metadata": {
        "id": "-aKdpzDSmtow"
      },
      "execution_count": null,
      "outputs": []
    },
    {
      "cell_type": "code",
      "source": [
        "#43) write a tuple? diffrent between list and tupel.\n",
        "A)\n",
        "The fundamental difference between lists and tuples in Python lies in their mutability:\n",
        "Mutability:\n",
        "\n",
        "Lists are mutable: This means that after a list is created, its elements can be modified (added, removed, or changed).\n",
        "Tuples are immutable: Once a tuple is created, its elements cannot be changed, added, or removed. If modification is required, the tuple must be converted to a list, modified, and then converted back to a tuple.\n",
        "\n"
      ],
      "metadata": {
        "id": "06xz03x7nJJ1"
      },
      "execution_count": null,
      "outputs": []
    },
    {
      "cell_type": "code",
      "source": [
        "#44) Write a Python program to create a tuple with different data types.\n",
        "my_tuple = (100, \"Python\", 3.14, False)\n",
        "print(my_tuple)\n"
      ],
      "metadata": {
        "id": "8Og8JYkwmtmw",
        "colab": {
          "base_uri": "https://localhost:8080/"
        },
        "outputId": "3cc8f9c0-dbf5-4332-8115-50d5ba91f3d7"
      },
      "execution_count": null,
      "outputs": [
        {
          "output_type": "stream",
          "name": "stdout",
          "text": [
            "(100, 'Python', 3.14, False)\n"
          ]
        }
      ]
    },
    {
      "cell_type": "code",
      "source": [
        "#45) Write a Python program to unzip a list of tuples into individual lists.\n",
        "data = [(1, 'a'), (2, 'b'), (3, 'c')]\n",
        "x, y = zip(*data)\n",
        "print(list(x), list(y))\n",
        "\n"
      ],
      "metadata": {
        "id": "P6fJYuM9mti5",
        "colab": {
          "base_uri": "https://localhost:8080/"
        },
        "outputId": "e6b3eacd-222b-4682-db0a-3816db4d9829"
      },
      "execution_count": null,
      "outputs": [
        {
          "output_type": "stream",
          "name": "stdout",
          "text": [
            "[1, 2, 3] ['a', 'b', 'c']\n"
          ]
        }
      ]
    },
    {
      "cell_type": "code",
      "source": [
        "#46) Write a Python program to convert a list of tuples into a dictionary.\n",
        "print(dict([('a', 1), ('b', 2), ('c', 3)]))\n",
        "\n"
      ],
      "metadata": {
        "id": "jAQ-l58xmtg9",
        "colab": {
          "base_uri": "https://localhost:8080/"
        },
        "outputId": "684653e3-91f0-4fcb-80b6-4b15a5e22ff1"
      },
      "execution_count": null,
      "outputs": [
        {
          "output_type": "stream",
          "name": "stdout",
          "text": [
            "{'a': 1, 'b': 2, 'c': 3}\n"
          ]
        }
      ]
    },
    {
      "cell_type": "code",
      "source": [
        "#47) How will you create a dictionary using tuples in python?\n",
        "\n",
        "# List of tuples, each tuple has (key, value)\n",
        "tuple_list = [(\"name\", \"Alice\"), (\"age\", 25), (\"city\", \"NY\")]\n",
        "\n",
        "# Create dictionary from the list of tuples\n",
        "my_dict = dict(tuple_list)\n",
        "\n",
        "print(my_dict)\n",
        "\n"
      ],
      "metadata": {
        "id": "VLFusApomtUP",
        "colab": {
          "base_uri": "https://localhost:8080/"
        },
        "outputId": "9202ab2f-acf7-4f57-88eb-e0c3cf278370"
      },
      "execution_count": null,
      "outputs": [
        {
          "output_type": "stream",
          "name": "stdout",
          "text": [
            "{'name': 'Alice', 'age': 25, 'city': 'NY'}\n"
          ]
        }
      ]
    },
    {
      "cell_type": "code",
      "source": [
        "#48) Write a Python script to sort (ascending and descending) a dictionary by value.\n",
        "\n",
        "# Sample dictionary\n",
        "my_dict = {'apple': 5, 'banana': 2, 'cherry': 7, 'date': 3}\n",
        "\n",
        "# Sort ascending by value\n",
        "asc_sorted = dict(sorted(my_dict.items(), key=lambda item: item[1]))\n",
        "\n",
        "# Sort descending by value\n",
        "desc_sorted = dict(sorted(my_dict.items(), key=lambda item: item[1], reverse=True))\n",
        "\n",
        "print(\"Ascending:\", asc_sorted)\n",
        "print(\"Descending:\", desc_sorted)\n"
      ],
      "metadata": {
        "id": "wyp5vcFq3NYf",
        "colab": {
          "base_uri": "https://localhost:8080/"
        },
        "outputId": "eded976d-be37-4d9c-c064-5ab4195c6f45"
      },
      "execution_count": null,
      "outputs": [
        {
          "output_type": "stream",
          "name": "stdout",
          "text": [
            "Ascending: {'banana': 2, 'date': 3, 'apple': 5, 'cherry': 7}\n",
            "Descending: {'cherry': 7, 'apple': 5, 'date': 3, 'banana': 2}\n"
          ]
        }
      ]
    },
    {
      "cell_type": "code",
      "source": [
        " #49) Write a Python script to concatenate following dictionaries to create a new one.\n",
        "\n",
        " dict1 = {'a': 1, 'b': 2}\n",
        "dict2 = {'c': 3, 'd': 4}\n",
        "dict3 = {'e': 5}\n",
        "\n",
        "# Concatenate dictionaries into a new one\n",
        "new_dict = {**dict1, **dict2, **dict3}\n",
        "\n",
        "print(new_dict)"
      ],
      "metadata": {
        "id": "Jc8nT8vG3Qr9",
        "colab": {
          "base_uri": "https://localhost:8080/"
        },
        "outputId": "43e75079-3d70-4a9a-ff0e-51cacbdffbd3"
      },
      "execution_count": null,
      "outputs": [
        {
          "output_type": "stream",
          "name": "stdout",
          "text": [
            "{'a': 1, 'b': 2, 'c': 3, 'd': 4, 'e': 5}\n"
          ]
        }
      ]
    },
    {
      "cell_type": "code",
      "source": [
        "#50) Write a Python script to check if a given key already exists in a dictionary.\n",
        "my_dict = {'name': 'Alice', 'age': 25, 'city': 'NY'}\n",
        "key_to_check = 'age'\n",
        "\n",
        "if key_to_check in my_dict:\n",
        "    print(f\"Key '{key_to_check}' exists in the dictionary.\")\n",
        "else:\n",
        "    print(f\"Key '{key_to_check}' does not exist in the dictionary.\")\n"
      ],
      "metadata": {
        "id": "qU0h9gNP3QpF",
        "colab": {
          "base_uri": "https://localhost:8080/"
        },
        "outputId": "0361fd4d-c0f6-4e7a-f88c-89fda28432b2"
      },
      "execution_count": null,
      "outputs": [
        {
          "output_type": "stream",
          "name": "stdout",
          "text": [
            "Key 'age' exists in the dictionary.\n"
          ]
        }
      ]
    },
    {
      "cell_type": "code",
      "source": [
        "#51) How Do You Traverse Through a Dictionary Object in Python?\n",
        "my_dict = {'a': 1, 'b': 2, 'c': 3}\n",
        "\n",
        "for key, value in my_dict.items():\n",
        "    print(f\"Key: {key}, Value: {value}\")\n",
        "\n"
      ],
      "metadata": {
        "id": "CTz4hIs33Qlo",
        "colab": {
          "base_uri": "https://localhost:8080/"
        },
        "outputId": "155515ea-6c10-4001-ef4a-81f2ef012164"
      },
      "execution_count": null,
      "outputs": [
        {
          "output_type": "stream",
          "name": "stdout",
          "text": [
            "Key: a, Value: 1\n",
            "Key: b, Value: 2\n",
            "Key: c, Value: 3\n"
          ]
        }
      ]
    },
    {
      "cell_type": "code",
      "source": [
        "#52) my_dict = {'name': 'Alice', 'age': 25}\n",
        "\n",
        "key_to_check = 'age'\n",
        "\n",
        "if key_to_check in my_dict:\n",
        "    print(f\"Key '{key_to_check}' exists!\")\n",
        "else:\n",
        "    print(f\"Key '{key_to_check}' does not exist!\")\n"
      ],
      "metadata": {
        "id": "z0FhNVw63QkH",
        "colab": {
          "base_uri": "https://localhost:8080/"
        },
        "outputId": "751f057c-67f6-4cc0-f1cb-93cbbe0f8451"
      },
      "execution_count": null,
      "outputs": [
        {
          "output_type": "stream",
          "name": "stdout",
          "text": [
            "Key 'age' does not exist!\n"
          ]
        }
      ]
    },
    {
      "cell_type": "code",
      "source": [
        "#53) Write a Python script to print a dictionary where the keys are numbers between 1 and 15.\n",
        "my_dict = {i: i**2 for i in range(1, 16)}\n",
        "\n",
        "# Print the dictionary\n",
        "print(my_dict)\n"
      ],
      "metadata": {
        "id": "GlIUf2Fv3QgQ",
        "colab": {
          "base_uri": "https://localhost:8080/"
        },
        "outputId": "3af74018-0ffc-4ec6-a18e-6394c3bad1f4"
      },
      "execution_count": null,
      "outputs": [
        {
          "output_type": "stream",
          "name": "stdout",
          "text": [
            "{1: 1, 2: 4, 3: 9, 4: 16, 5: 25, 6: 36, 7: 49, 8: 64, 9: 81, 10: 100, 11: 121, 12: 144, 13: 169, 14: 196, 15: 225}\n"
          ]
        }
      ]
    },
    {
      "cell_type": "code",
      "source": [
        "#54) Write a Python program to check multiple keys exists in a dictionary\n",
        "my_dict = {'name': 'Alice', 'age': 25, 'city': 'NY'}\n",
        "keys_to_check = ['name', 'age', 'country']\n",
        "\n",
        "# Check if all keys exist\n",
        "if all(key in my_dict for key in keys_to_check):\n",
        "    print(\"All keys exist.\")\n",
        "else:\n",
        "    print(\"Not all keys exist.\")\n"
      ],
      "metadata": {
        "id": "xTdLou223Qei",
        "colab": {
          "base_uri": "https://localhost:8080/"
        },
        "outputId": "d9a94ac8-84d0-43fe-82a2-921c6e100471"
      },
      "execution_count": null,
      "outputs": [
        {
          "output_type": "stream",
          "name": "stdout",
          "text": [
            "Not all keys exist.\n"
          ]
        }
      ]
    },
    {
      "cell_type": "code",
      "source": [
        "#55) Write a Python script to merge two Python dictionaries\n",
        "dict1 = {'a': 1, 'b': 2}\n",
        "dict2 = {'b': 3, 'c': 4}\n",
        "\n",
        "# Merge dictionaries (Python 3.9+)\n",
        "merged_dict = dict1 | dict2\n",
        "\n",
        "print(merged_dict)\n"
      ],
      "metadata": {
        "id": "wLZsRH9y3Qa9",
        "colab": {
          "base_uri": "https://localhost:8080/"
        },
        "outputId": "1331f794-e6d7-4518-c64e-12dc38b20601"
      },
      "execution_count": null,
      "outputs": [
        {
          "output_type": "stream",
          "name": "stdout",
          "text": [
            "{'a': 1, 'b': 3, 'c': 4}\n"
          ]
        }
      ]
    },
    {
      "cell_type": "code",
      "source": [
        "#56) Write a Python program to map two lists into a dictionary Sample output: Counter ({'a': 400, 'b': 400,’d’: 400, 'c': 300}).\n",
        "from collections import Counter\n",
        "\n",
        "keys = ['a', 'b', 'c', 'a', 'b', 'd']\n",
        "values = [100, 200, 300, 300, 200, 400]\n",
        "\n",
        "# Create Counter by summing values for duplicate keys\n",
        "result = Counter()\n",
        "\n",
        "for k, v in zip(keys, values):\n",
        "    result[k] += v\n",
        "\n",
        "print(result)\n"
      ],
      "metadata": {
        "id": "L097SUIp3QYu",
        "colab": {
          "base_uri": "https://localhost:8080/"
        },
        "outputId": "291d317a-4c88-4c7b-bdc1-2076145b168e"
      },
      "execution_count": null,
      "outputs": [
        {
          "output_type": "stream",
          "name": "stdout",
          "text": [
            "Counter({'a': 400, 'b': 400, 'd': 400, 'c': 300})\n"
          ]
        }
      ]
    },
    {
      "cell_type": "code",
      "source": [
        "#57) Write a Python program to find the highest 3 values in a dictionary\n",
        "my_dict = {'a': 100, 'b': 300, 'c': 200, 'd': 400, 'e': 150}\n",
        "\n",
        "# Get the top 3 items sorted by value (descending)\n",
        "top_3 = sorted(my_dict.items(), key=lambda x: x[1], reverse=True)[:3]\n",
        "\n",
        "print(top_3)\n"
      ],
      "metadata": {
        "id": "T9ow6SzC3QRg",
        "colab": {
          "base_uri": "https://localhost:8080/"
        },
        "outputId": "77d1c1d6-768f-4897-ad06-f74cd5051032"
      },
      "execution_count": null,
      "outputs": [
        {
          "output_type": "stream",
          "name": "stdout",
          "text": [
            "[('d', 400), ('b', 300), ('c', 200)]\n"
          ]
        }
      ]
    },
    {
      "cell_type": "code",
      "source": [
        "#58) Write a Python program to combine values in python list of dictionaries. Sample data: [{'item': 'item1', 'amount': 400}, {'item': 'item2', 'amount': 300}, o {'item': 'item1', 'amount': 750}] Expected Output: • Counter ({'item1': 1150, 'item2': 300})\n",
        "from collections import Counter\n",
        "\n",
        "data = [\n",
        "    {'item': 'item1', 'amount': 400},\n",
        "    {'item': 'item2', 'amount': 300},\n",
        "    {'item': 'item1', 'amount': 750}\n",
        "]\n",
        "\n",
        "result = Counter()\n",
        "\n",
        "for entry in data:\n",
        "    result[entry['item']] += entry['amount']\n",
        "\n",
        "print(result)\n"
      ],
      "metadata": {
        "id": "z1BTgp9x3QJ0",
        "colab": {
          "base_uri": "https://localhost:8080/"
        },
        "outputId": "5d5e1c04-0b2b-4c29-c392-5ec250978bb4"
      },
      "execution_count": null,
      "outputs": [
        {
          "output_type": "stream",
          "name": "stdout",
          "text": [
            "Counter({'item1': 1150, 'item2': 300})\n"
          ]
        }
      ]
    },
    {
      "cell_type": "markdown",
      "source": [
        "59) Write a Python program to create a dictionary from a string."
      ],
      "metadata": {
        "id": "nbZoh4QDJRH0"
      }
    },
    {
      "cell_type": "code",
      "source": [
        "\n",
        "\n",
        "from collections import Counter\n",
        "\n",
        "s = \"hello world\"\n",
        "count_dict = Counter(c for c in s if c.isalpha())\n",
        "print(count_dict)"
      ],
      "metadata": {
        "id": "MAf8x-enRQu3",
        "colab": {
          "base_uri": "https://localhost:8080/"
        },
        "outputId": "a572bddd-0994-47bd-d3c1-5f7eb3bfe42e"
      },
      "execution_count": null,
      "outputs": [
        {
          "output_type": "stream",
          "name": "stdout",
          "text": [
            "Counter({'l': 3, 'o': 2, 'h': 1, 'e': 1, 'w': 1, 'r': 1, 'd': 1})\n"
          ]
        }
      ]
    },
    {
      "cell_type": "markdown",
      "source": [
        "60)Sample string:\n",
        " 'w3resource' Expected output:\n",
        "• {'3': 1,’s’: 1, 'r': 2, 'u': 1, 'w': 1, 'c': 1, 'e': 2, 'o': 1}"
      ],
      "metadata": {
        "id": "yHeLEayLPOK-"
      }
    },
    {
      "cell_type": "code",
      "source": [
        "from collections import Counter\n",
        "\n",
        "sample_str = 'w3resource'\n",
        "char_count = Counter(sample_str)\n",
        "\n",
        "print(dict(char_count))\n"
      ],
      "metadata": {
        "id": "vW3ole9QRS7V",
        "colab": {
          "base_uri": "https://localhost:8080/"
        },
        "outputId": "c3292d32-8a5b-4bca-836c-3dc6b55ab0a3"
      },
      "execution_count": null,
      "outputs": [
        {
          "output_type": "stream",
          "name": "stdout",
          "text": [
            "{'w': 1, '3': 1, 'r': 2, 'e': 2, 's': 1, 'o': 1, 'u': 1, 'c': 1}\n"
          ]
        }
      ]
    },
    {
      "cell_type": "markdown",
      "source": [
        "61)Write a Python function to calculate the factorial of a number (a\n",
        "nonnegative integer)"
      ],
      "metadata": {
        "id": "AMJWNJuBPQUz"
      }
    },
    {
      "cell_type": "code",
      "source": [
        "def factorial(n):\n",
        "    result = 1\n",
        "    for i in range(2, n + 1):\n",
        "        result *= i\n",
        "    return result\n",
        "\n"
      ],
      "metadata": {
        "id": "34FQmiuTRTQD"
      },
      "execution_count": null,
      "outputs": []
    },
    {
      "cell_type": "markdown",
      "source": [
        "62)Write a Python function to check whether a number is in a given range\n"
      ],
      "metadata": {
        "id": "Ywby0gawPVd-"
      }
    },
    {
      "cell_type": "code",
      "source": [
        "def is_in_range(num, start, end):\n",
        "    return start <= num <= end\n",
        "\n",
        "    print(is_in_range(5, 1, 10))  d\n",
        "print(is_in_range(15, 1, 10))\n",
        "\n"
      ],
      "metadata": {
        "id": "rdSmzdtXRT_r",
        "colab": {
          "base_uri": "https://localhost:8080/"
        },
        "outputId": "9b0ae9fd-8115-4f24-e3e4-d805e6aeaa8f"
      },
      "execution_count": null,
      "outputs": [
        {
          "output_type": "stream",
          "name": "stdout",
          "text": [
            "False\n"
          ]
        }
      ]
    },
    {
      "cell_type": "markdown",
      "source": [
        "63)Write a Python function to check whether a number is perfect or not.\n"
      ],
      "metadata": {
        "id": "Na3MvGUCPcOE"
      }
    },
    {
      "cell_type": "code",
      "source": [
        "def is_perfect(n):\n",
        "    if n < 2:\n",
        "        return False\n",
        "    return sum(i for i in range(1, n) if n % i == 0) == n\n",
        "\n",
        "print(is_perfect(6))\n",
        "print(is_perfect(28))"
      ],
      "metadata": {
        "id": "RFqK8aLrRUvY",
        "colab": {
          "base_uri": "https://localhost:8080/"
        },
        "outputId": "88f901a2-4e2e-4f28-90c3-9964b2cc5304"
      },
      "execution_count": null,
      "outputs": [
        {
          "output_type": "stream",
          "name": "stdout",
          "text": [
            "True\n",
            "True\n"
          ]
        }
      ]
    },
    {
      "cell_type": "markdown",
      "source": [
        "64)Write a Python function that checks whether a passed string is\n",
        "palindrome or not"
      ],
      "metadata": {
        "id": "G1tqjts1PitO"
      }
    },
    {
      "cell_type": "code",
      "source": [
        "def is_palindrome(s):\n",
        "    return s == s[::-1]\n",
        "\n",
        "    print(is_palindrome(\"madam\"))\n",
        "print(is_palindrome(\"hello\"))\n",
        "\n"
      ],
      "metadata": {
        "id": "MmewiRx1RVkW",
        "colab": {
          "base_uri": "https://localhost:8080/"
        },
        "outputId": "0879da10-2099-4995-ca12-523cfab38dfc"
      },
      "execution_count": null,
      "outputs": [
        {
          "output_type": "stream",
          "name": "stdout",
          "text": [
            "False\n"
          ]
        }
      ]
    },
    {
      "cell_type": "markdown",
      "source": [
        "65)How Many Basic Types of Functions Are Available in Python?"
      ],
      "metadata": {
        "id": "FkHcoOTIPpJe"
      }
    },
    {
      "cell_type": "code",
      "source": [],
      "metadata": {
        "id": "fCijhfKzRWYn"
      },
      "execution_count": null,
      "outputs": []
    },
    {
      "cell_type": "markdown",
      "source": [
        "66)How can you pick a random item from a list or tuple?"
      ],
      "metadata": {
        "id": "Vh9jJjiIPtZl"
      }
    },
    {
      "cell_type": "code",
      "source": [
        "import random\n",
        "\n",
        "my_list = [10, 20, 30, 40, 50]\n",
        "item = random.choice(my_list)\n",
        "print(item)\n"
      ],
      "metadata": {
        "id": "RHSWY_McPzmm",
        "colab": {
          "base_uri": "https://localhost:8080/"
        },
        "outputId": "1c2aa1ea-59c7-4d80-83fa-5d88ad38c6cf"
      },
      "execution_count": null,
      "outputs": [
        {
          "output_type": "stream",
          "name": "stdout",
          "text": [
            "40\n"
          ]
        }
      ]
    },
    {
      "cell_type": "markdown",
      "source": [
        "67)How can you pick a random item from a range?\n",
        "\n"
      ],
      "metadata": {
        "id": "VP3anjr0Pz-S"
      }
    },
    {
      "cell_type": "code",
      "source": [
        "import random\n",
        "\n",
        "item = random.choice(range(1, 11))\n",
        "print(item)\n"
      ],
      "metadata": {
        "id": "9MUp-8dCP4T1",
        "colab": {
          "base_uri": "https://localhost:8080/"
        },
        "outputId": "622147cc-8b43-4430-dd8f-d7e4f5baefcc"
      },
      "execution_count": null,
      "outputs": [
        {
          "output_type": "stream",
          "name": "stdout",
          "text": [
            "6\n"
          ]
        }
      ]
    },
    {
      "cell_type": "markdown",
      "source": [
        "68)How can you get a random number in python?\n"
      ],
      "metadata": {
        "id": "f-mmmbdSP41d"
      }
    },
    {
      "cell_type": "code",
      "source": [
        "import random\n",
        "\n",
        "# Random integer between 1 and 10 (inclusive)\n",
        "random_int = random.randint(1, 10)\n",
        "print(\"Random Integer (1-10):\", random_int)\n",
        "\n",
        "# Random float between 0.0 and 1.0\n",
        "random_float = random.random()\n",
        "print(\"Random Float (0.0-1.0):\", random_float)\n",
        "\n",
        "# Random float between 1.5 and 5.5\n",
        "random_float_range = random.uniform(1.5, 5.5)\n",
        "print(\"Random Float (1.5-5.5):\", random_float_range)\n",
        "\n",
        "# Random choice from a list\n",
        "items = [10, 20, 30, 40]\n",
        "choice = random.choice(items)\n",
        "print(\"Random Choice from List:\", choice)\n"
      ],
      "metadata": {
        "id": "H_urxHmhP-A9",
        "colab": {
          "base_uri": "https://localhost:8080/"
        },
        "outputId": "3eb661ff-43da-4a9b-d781-3c47c24ec496"
      },
      "execution_count": null,
      "outputs": [
        {
          "output_type": "stream",
          "name": "stdout",
          "text": [
            "Random Integer (1-10): 5\n",
            "Random Float (0.0-1.0): 0.2831325545283362\n",
            "Random Float (1.5-5.5): 3.821524490910234\n",
            "Random Choice from List: 30\n"
          ]
        }
      ]
    },
    {
      "cell_type": "markdown",
      "source": [
        "69)How will you set the starting value in generating random numbers?"
      ],
      "metadata": {
        "id": "6QsSlmuiP-cw"
      }
    },
    {
      "cell_type": "code",
      "source": [
        "import random\n",
        "\n",
        "random.seed(123)  # Set starting value (the seed)\n",
        "\n",
        "print(random.randint(1, 10))       # Always gives the same result with this seed\n",
        "print(random.random())             # Same here\n",
        "print(random.uniform(1.5, 5.5))\n",
        "print(random.choice([10, 20, 30]))\n"
      ],
      "metadata": {
        "id": "9OwjSp9QQCY5",
        "colab": {
          "base_uri": "https://localhost:8080/"
        },
        "outputId": "ab144457-dfcc-4de3-a9b6-5a197c1298d5"
      },
      "execution_count": null,
      "outputs": [
        {
          "output_type": "stream",
          "name": "stdout",
          "text": [
            "1\n",
            "0.2676771662174662\n",
            "4.575825554348283\n",
            "20\n"
          ]
        }
      ]
    },
    {
      "cell_type": "markdown",
      "source": [
        "70) How will you randomize the items of a list in place?\n"
      ],
      "metadata": {
        "id": "YPq0z4-NQCwe"
      }
    },
    {
      "cell_type": "code",
      "source": [
        "import random\n",
        "\n",
        "my_list = [1, 2, 3, 4, 5]\n",
        "random.shuffle(my_list)\n",
        "\n",
        "print(my_list)  # The order is now randomized\n"
      ],
      "metadata": {
        "id": "zgufdD6hQHdN",
        "colab": {
          "base_uri": "https://localhost:8080/"
        },
        "outputId": "798229d4-b914-491f-e65d-a6764965d4de"
      },
      "execution_count": null,
      "outputs": [
        {
          "output_type": "stream",
          "name": "stdout",
          "text": [
            "[4, 3, 2, 5, 1]\n"
          ]
        }
      ]
    },
    {
      "cell_type": "markdown",
      "source": [
        "71)What is File function in python? What are keywords to create\n",
        "and write file.\n"
      ],
      "metadata": {
        "id": "qVzQoXZcQIFz"
      }
    },
    {
      "cell_type": "code",
      "source": [
        "# Create or overwrite a file and write text\n",
        "file = open(\"example.txt\", \"w\")  # 'w' = write mode\n",
        "file.write(\"Hello, world!\\n\")\n",
        "file.write(\"This is a new file.\")\n",
        "file.close()\n"
      ],
      "metadata": {
        "id": "L0E3GgwhQM1c"
      },
      "execution_count": null,
      "outputs": []
    },
    {
      "cell_type": "markdown",
      "source": [
        "72)Write a Python program to read an entire text file"
      ],
      "metadata": {
        "id": "PCrRVOSbQUs4"
      }
    },
    {
      "cell_type": "code",
      "source": [
        "# Open the file in read mode\n",
        "with open(\"example.txt\", \"r\") as file:\n",
        "    content = file.read()  # Read the entire content of the file\n",
        "\n",
        "# Print the content\n",
        "print(content)\n"
      ],
      "metadata": {
        "id": "SsGBTav_QWSv",
        "colab": {
          "base_uri": "https://localhost:8080/"
        },
        "outputId": "82d4e2c9-6b4b-4a0d-b41c-165d9e34c8f7"
      },
      "execution_count": null,
      "outputs": [
        {
          "output_type": "stream",
          "name": "stdout",
          "text": [
            "Hello, world!\n",
            "This is a new file.\n"
          ]
        }
      ]
    },
    {
      "cell_type": "markdown",
      "source": [
        "73)Write a Python program to append text to a file and display the text"
      ],
      "metadata": {
        "id": "Gecqf0HCQW62"
      }
    },
    {
      "cell_type": "code",
      "source": [
        "# Append text to the file\n",
        "with open(\"example.txt\", \"a\") as file:\n",
        "    file.write(\"Appended line of text.\\n\")\n",
        "\n",
        "# Read and display the updated content\n",
        "with open(\"example.txt\", \"r\") as file:\n",
        "    content = file.read()\n",
        "\n",
        "print(\"File content after appending:\")\n",
        "print(content)\n"
      ],
      "metadata": {
        "id": "JsVs1gtYQXnz",
        "colab": {
          "base_uri": "https://localhost:8080/"
        },
        "outputId": "6bc29bbe-bbc3-4870-bffe-10cd29310f98"
      },
      "execution_count": null,
      "outputs": [
        {
          "output_type": "stream",
          "name": "stdout",
          "text": [
            "File content after appending:\n",
            "Hello, world!\n",
            "This is a new file.Appended line of text.\n",
            "\n"
          ]
        }
      ]
    },
    {
      "cell_type": "markdown",
      "source": [
        "74)Write a Python program to read first n lines of a file.\n"
      ],
      "metadata": {
        "id": "HJNjtd0zSzjz"
      }
    },
    {
      "cell_type": "code",
      "source": [
        "# Set the number of lines you want to read\n",
        "n = 3\n",
        "\n",
        "# Open the file in read mode\n",
        "with open(\"example.txt\", \"r\") as file:\n",
        "    for i in range(n):\n",
        "        line = file.readline()\n",
        "        if not line:\n",
        "            break  # Stop if there are fewer than n lines\n",
        "        print(line.strip())\n"
      ],
      "metadata": {
        "id": "3q9Xg8C5S9do",
        "colab": {
          "base_uri": "https://localhost:8080/"
        },
        "outputId": "5a9ee1d5-680b-407b-fff6-4c038b052238"
      },
      "execution_count": null,
      "outputs": [
        {
          "output_type": "stream",
          "name": "stdout",
          "text": [
            "Hello, world!\n",
            "This is a new file.Appended line of text.\n"
          ]
        }
      ]
    },
    {
      "cell_type": "markdown",
      "source": [
        "75)Write a Python program to read last n lines of a file.\n"
      ],
      "metadata": {
        "id": "v_NNrKuRS-Rh"
      }
    },
    {
      "cell_type": "code",
      "source": [
        "n = 3  # Number of lines to read from the end\n",
        "\n",
        "with open(\"example.txt\", \"r\") as file:\n",
        "    lines = file.readlines()  # Read all lines into a list\n",
        "\n",
        "# Get the last n lines\n",
        "last_n_lines = lines[-n:]\n",
        "\n",
        "# Print them\n",
        "for line in last_n_lines:\n",
        "    print(line.strip())\n"
      ],
      "metadata": {
        "colab": {
          "base_uri": "https://localhost:8080/"
        },
        "id": "MknQx_Hisx8H",
        "outputId": "98e005c6-057f-4459-f092-cf23fe224252"
      },
      "execution_count": null,
      "outputs": [
        {
          "output_type": "stream",
          "name": "stdout",
          "text": [
            "Hello, world!\n",
            "This is a new file.Appended line of text.\n"
          ]
        }
      ]
    },
    {
      "cell_type": "markdown",
      "source": [
        "76)Write a Python program to read a file line by line and store it into a list\n"
      ],
      "metadata": {
        "id": "jZcd1K6oTCWQ"
      }
    },
    {
      "cell_type": "code",
      "source": [
        "lines_list = []\n",
        "\n",
        "with open(\"example.txt\", \"r\") as file:\n",
        "    for line in file:\n",
        "        lines_list.append(line.strip())  # Remove newline characters\n",
        "\n",
        "print(lines_list)\n"
      ],
      "metadata": {
        "colab": {
          "base_uri": "https://localhost:8080/"
        },
        "id": "GVo0SmnVtKvC",
        "outputId": "46b6a49c-475f-43e1-c94f-74094be70e9e"
      },
      "execution_count": null,
      "outputs": [
        {
          "output_type": "stream",
          "name": "stdout",
          "text": [
            "['Hello, world!', 'This is a new file.Appended line of text.']\n"
          ]
        }
      ]
    },
    {
      "cell_type": "markdown",
      "source": [
        "77)Write a Python program to read a file line by line store it into a variable.\n"
      ],
      "metadata": {
        "id": "5qiurOZhTGWJ"
      }
    },
    {
      "cell_type": "code",
      "source": [
        "content = \"\"\n",
        "\n",
        "with open(\"example.txt\", \"r\") as file:\n",
        "    for line in file:\n",
        "        content += line  # Keep the newline characters as they are\n",
        "\n",
        "print(content)\n"
      ],
      "metadata": {
        "colab": {
          "base_uri": "https://localhost:8080/"
        },
        "id": "u9-3JbKxtQcf",
        "outputId": "22194f69-27db-4ab7-a20e-3706d4efef9c"
      },
      "execution_count": null,
      "outputs": [
        {
          "output_type": "stream",
          "name": "stdout",
          "text": [
            "Hello, world!\n",
            "This is a new file.Appended line of text.\n",
            "\n"
          ]
        }
      ]
    },
    {
      "cell_type": "markdown",
      "source": [
        "78)Write a python program to find the longest words.\n"
      ],
      "metadata": {
        "id": "HzphL_r4TMcu"
      }
    },
    {
      "cell_type": "code",
      "source": [
        "def find_longest_words(filename):\n",
        "    longest_words = []\n",
        "    max_length = 0\n",
        "\n",
        "    with open(filename, 'r') as file:\n",
        "        for line in file:\n",
        "            words = line.split()\n",
        "            for word in words:\n",
        "                word = word.strip(\",.!?\\\"'()[]{}:;\")  # Remove common punctuation\n",
        "                length = len(word)\n",
        "                if length > max_length:\n",
        "                    max_length = length\n",
        "                    longest_words = [word]\n",
        "                elif length == max_length:\n",
        "                    if word not in longest_words:\n",
        "                        longest_words.append(word)\n",
        "\n",
        "    return longest_words, max_length\n",
        "\n",
        "\n",
        "# Example usage:\n",
        "filename = \"example.txt\"\n",
        "longest_words, length = find_longest_words(filename)\n",
        "\n",
        "print(f\"Longest word length: {length}\")\n",
        "print(\"Longest word(s):\")\n",
        "for w in longest_words:\n",
        "    print(w)\n"
      ],
      "metadata": {
        "colab": {
          "base_uri": "https://localhost:8080/"
        },
        "id": "WeBoNYvKtmBF",
        "outputId": "f41741b4-4d01-4750-bd20-dd63353bd28e"
      },
      "execution_count": null,
      "outputs": [
        {
          "output_type": "stream",
          "name": "stdout",
          "text": [
            "Longest word length: 13\n",
            "Longest word(s):\n",
            "file.Appended\n"
          ]
        }
      ]
    },
    {
      "cell_type": "markdown",
      "source": [
        "79)Write a Python program to count the number of lines in a text file.\n"
      ],
      "metadata": {
        "id": "XdrB7CKtTNuV"
      }
    },
    {
      "cell_type": "code",
      "source": [
        "def count_lines(filename):\n",
        "    with open(filename, 'r') as file:\n",
        "        line_count = sum(1 for _ in file)\n",
        "    return line_count\n",
        "\n",
        "# Example usage:\n",
        "filename = \"example.txt\"\n",
        "num_lines = count_lines(filename)\n",
        "print(f\"Number of lines in '{filename}': {num_lines}\")\n"
      ],
      "metadata": {
        "colab": {
          "base_uri": "https://localhost:8080/"
        },
        "id": "9J5BMBOFtwsz",
        "outputId": "4f196d03-9346-48d3-8b26-38460eaaff96"
      },
      "execution_count": null,
      "outputs": [
        {
          "output_type": "stream",
          "name": "stdout",
          "text": [
            "Number of lines in 'example.txt': 2\n"
          ]
        }
      ]
    },
    {
      "cell_type": "markdown",
      "source": [
        "80)Write a Python program to count the frequency of words in a file.\n"
      ],
      "metadata": {
        "id": "LayRNUsTTUCK"
      }
    },
    {
      "cell_type": "code",
      "source": [
        "from collections import Counter\n",
        "import re\n",
        "\n",
        "def word_frequency(filename):\n",
        "    with open(filename, 'r') as file:\n",
        "        text = file.read().lower()  # Convert text to lowercase for case-insensitive counting\n",
        "\n",
        "    # Use regex to extract words (alphanumeric + underscore)\n",
        "    words = re.findall(r'\\b\\w+\\b', text)\n",
        "\n",
        "    # Count frequency of each word\n",
        "    freq = Counter(words)\n",
        "\n",
        "    return freq\n",
        "\n",
        "# Example usage:\n",
        "filename = \"example.txt\"\n",
        "freq = word_frequency(filename)\n",
        "\n",
        "print(\"Word frequencies:\")\n",
        "for word, count in freq.most_common():\n",
        "    print(f\"{word}: {count}\")\n"
      ],
      "metadata": {
        "colab": {
          "base_uri": "https://localhost:8080/"
        },
        "id": "jBsW4NuAv0MZ",
        "outputId": "81dbbd81-4a9e-4380-c2b9-8c140ae24a69"
      },
      "execution_count": null,
      "outputs": [
        {
          "output_type": "stream",
          "name": "stdout",
          "text": [
            "Word frequencies:\n",
            "hello: 1\n",
            "world: 1\n",
            "this: 1\n",
            "is: 1\n",
            "a: 1\n",
            "new: 1\n",
            "file: 1\n",
            "appended: 1\n",
            "line: 1\n",
            "of: 1\n",
            "text: 1\n"
          ]
        }
      ]
    },
    {
      "cell_type": "markdown",
      "source": [
        "81)Write a Python program to write a list to a file.\n"
      ],
      "metadata": {
        "id": "yWloJH9ZTYz1"
      }
    },
    {
      "cell_type": "code",
      "source": [
        "my_list = ['apple', 'banana', 'cherry', 'date']\n",
        "\n",
        "with open(\"output.txt\", \"w\") as file:\n",
        "    for item in my_list:\n",
        "        file.write(item + \"\\n\")\n"
      ],
      "metadata": {
        "id": "5BHEZl4dwMPV"
      },
      "execution_count": null,
      "outputs": []
    },
    {
      "cell_type": "markdown",
      "source": [
        "82)Write a Python program to copy the contents of a file to another file.\n"
      ],
      "metadata": {
        "id": "7bHZOXPoTaOi"
      }
    },
    {
      "cell_type": "code",
      "source": [
        "# Create the source file with some content\n",
        "source_file = \"source.txt\"\n",
        "destination_file = \"destination.txt\"\n",
        "\n",
        "# Write some content to the source file so it exists for reading\n",
        "with open(source_file, \"w\") as src_write:\n",
        "    src_write.write(\"This is the content of the source file.\\n\")\n",
        "    src_write.write(\"This is another line.\\n\")\n",
        "\n",
        "\n",
        "# Now attempt to copy the contents from the source to the destination\n",
        "with open(source_file, \"r\") as src, open(destination_file, \"w\") as dest:\n",
        "    for line in src:\n",
        "        dest.write(line)\n",
        "\n",
        "print(f\"Contents copied from {source_file} to {destination_file}\")\n",
        "\n"
      ],
      "metadata": {
        "colab": {
          "base_uri": "https://localhost:8080/"
        },
        "id": "bgyKv8-LwVrY",
        "outputId": "d15ccea3-38ef-4e9e-a110-460ecc579adf"
      },
      "execution_count": null,
      "outputs": [
        {
          "output_type": "stream",
          "name": "stdout",
          "text": [
            "Contents copied from source.txt to destination.txt\n"
          ]
        }
      ]
    },
    {
      "cell_type": "markdown",
      "source": [
        "83)Explain Exception handling? What is an Error in Python?\n"
      ],
      "metadata": {
        "id": "ohEHRxaiTgcL"
      }
    },
    {
      "cell_type": "code",
      "source": [
        "try:\n",
        "    # Code that might cause error\n",
        "    x = 10 / 0\n",
        "except ZeroDivisionError:\n",
        "    print(\"Cannot divide by zero!\")\n"
      ],
      "metadata": {
        "colab": {
          "base_uri": "https://localhost:8080/"
        },
        "id": "IoMJDRH8pTTJ",
        "outputId": "0ea85c0d-0e33-4ba8-d081-2c1d09854ac8"
      },
      "execution_count": 1,
      "outputs": [
        {
          "output_type": "stream",
          "name": "stdout",
          "text": [
            "Cannot divide by zero!\n"
          ]
        }
      ]
    },
    {
      "cell_type": "markdown",
      "source": [
        "84)How many except statements can a try-except block have? Name\n",
        "Some built-in exception classes:\n",
        "\n"
      ],
      "metadata": {
        "id": "fdQllOqqThuq"
      }
    },
    {
      "cell_type": "code",
      "source": [
        "try:\n",
        "    x = int(\"abc\")  # This will cause a ValueError\n",
        "except ValueError:\n",
        "    print(\"Caught a ValueError\")\n",
        "except TypeError:\n",
        "    print(\"Caught a TypeError\")\n"
      ],
      "metadata": {
        "colab": {
          "base_uri": "https://localhost:8080/"
        },
        "id": "L_UPtF6PpZo-",
        "outputId": "baa34eff-0673-45fd-a7b4-6081179d00aa"
      },
      "execution_count": 2,
      "outputs": [
        {
          "output_type": "stream",
          "name": "stdout",
          "text": [
            "Caught a ValueError\n"
          ]
        }
      ]
    },
    {
      "cell_type": "markdown",
      "source": [
        "85)When will the else part of try-except-else be executed?\n"
      ],
      "metadata": {
        "id": "XRtTLtvWTiWl"
      }
    },
    {
      "cell_type": "code",
      "source": [
        "try:\n",
        "    num = int(input(\"Enter a number: \"))\n",
        "except ValueError:\n",
        "    print(\"Invalid number!\")\n",
        "else:\n",
        "    print(f\"You entered: {num}\")\n",
        "\n"
      ],
      "metadata": {
        "colab": {
          "base_uri": "https://localhost:8080/"
        },
        "id": "pd8b7ezCpmck",
        "outputId": "d2ac7b30-e37c-4daa-e97a-c3336f877bef"
      },
      "execution_count": 3,
      "outputs": [
        {
          "output_type": "stream",
          "name": "stdout",
          "text": [
            "Enter a number: 21\n",
            "You entered: 21\n"
          ]
        }
      ]
    },
    {
      "cell_type": "markdown",
      "source": [
        "86)Can one block of except statements handle multiple exception?\n"
      ],
      "metadata": {
        "id": "a19LGfBaT1Am"
      }
    },
    {
      "cell_type": "code",
      "source": [
        "try:\n",
        "    # some risky code\n",
        "    x = int(\"abc\")  # This will raise ValueError\n",
        "except (ValueError, TypeError):\n",
        "    print(\"Caught a ValueError or TypeError\")\n"
      ],
      "metadata": {
        "colab": {
          "base_uri": "https://localhost:8080/"
        },
        "id": "D25igcidprD0",
        "outputId": "abf84c53-f6b7-4ed3-f9c8-160ce62528ac"
      },
      "execution_count": 4,
      "outputs": [
        {
          "output_type": "stream",
          "name": "stdout",
          "text": [
            "Caught a ValueError or TypeError\n"
          ]
        }
      ]
    },
    {
      "cell_type": "markdown",
      "source": [
        "87)When is the finally block executed?\n"
      ],
      "metadata": {
        "id": "AUmqdptMT6TK"
      }
    },
    {
      "cell_type": "code",
      "source": [
        "try:\n",
        "    x = 10 / 2\n",
        "except ZeroDivisionError:\n",
        "    print(\"Division error!\")\n",
        "finally:\n",
        "    print(\"This always runs.\")\n"
      ],
      "metadata": {
        "colab": {
          "base_uri": "https://localhost:8080/"
        },
        "id": "AMwzJpAGpzqh",
        "outputId": "4e7569c3-0826-425f-ac6d-e3f6f5288502"
      },
      "execution_count": 5,
      "outputs": [
        {
          "output_type": "stream",
          "name": "stdout",
          "text": [
            "This always runs.\n"
          ]
        }
      ]
    },
    {
      "cell_type": "markdown",
      "source": [
        "88)What happens when „1‟== 1 is executed?\n"
      ],
      "metadata": {
        "id": "57itzsGvT7hW"
      }
    },
    {
      "cell_type": "code",
      "source": [
        "\"1\" == 1\n"
      ],
      "metadata": {
        "colab": {
          "base_uri": "https://localhost:8080/"
        },
        "id": "i-lebRe0p0kb",
        "outputId": "eeb749e1-f259-409f-9bc5-6e43de6427fe"
      },
      "execution_count": 6,
      "outputs": [
        {
          "output_type": "execute_result",
          "data": {
            "text/plain": [
              "False"
            ]
          },
          "metadata": {},
          "execution_count": 6
        }
      ]
    },
    {
      "cell_type": "markdown",
      "source": [
        "89)How Do You Handle Exceptions with Try/Except/Finally in Python?\n",
        "Explain with coding snippets."
      ],
      "metadata": {
        "id": "MxxCp3iHT_Et"
      }
    },
    {
      "cell_type": "code",
      "source": [
        "try:\n",
        "    # Code that might raise an exception\n",
        "    print(\"Attempting a potentially risky operation...\") # Add an executable statement\n",
        "    # Example of a risky operation (optional, depends on what you want to test)\n",
        "    # result = 1 / 0\n",
        "except SomeException:\n",
        "    # Code that handles the exception\n",
        "    print(\"Caught SomeException!\") # Add an executable statement\n",
        "finally:\n",
        "    # Code that always runs (e.g., cleanup)\n",
        "    print(\"This always runs (finally block).\") # Add an executable statement\n"
      ],
      "metadata": {
        "colab": {
          "base_uri": "https://localhost:8080/"
        },
        "id": "xCjnd4yPqPVj",
        "outputId": "725e7598-9f42-4959-b4ed-7e674e8ef7ca"
      },
      "execution_count": 8,
      "outputs": [
        {
          "output_type": "stream",
          "name": "stdout",
          "text": [
            "Attempting a potentially risky operation...\n",
            "This always runs (finally block).\n"
          ]
        }
      ]
    },
    {
      "cell_type": "markdown",
      "source": [
        "90)Write python program that user to enter only odd numbers, else\n",
        "will raise an exception."
      ],
      "metadata": {
        "id": "krCZ2b-2UHsy"
      }
    },
    {
      "cell_type": "code",
      "source": [
        "try:\n",
        "    num = int(input(\"Enter an odd number: \"))\n",
        "    if num % 2 == 0:\n",
        "        raise Exception(\"Not an odd number!\")\n",
        "    print(\"Valid odd number:\", num)\n",
        "except Exception as e:\n",
        "    print(\"Error:\", e)\n"
      ],
      "metadata": {
        "colab": {
          "base_uri": "https://localhost:8080/"
        },
        "id": "egkRsVobqlGd",
        "outputId": "27342f3c-d5ab-49dd-aa24-afc8d7f9c41b"
      },
      "execution_count": 10,
      "outputs": [
        {
          "output_type": "stream",
          "name": "stdout",
          "text": [
            "Enter an odd number: 1\n",
            "Valid odd number: 1\n"
          ]
        }
      ]
    }
  ]
}